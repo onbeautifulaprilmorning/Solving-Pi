{
  "nbformat": 4,
  "nbformat_minor": 0,
  "metadata": {
    "colab": {
      "name": "Untitled65.ipynb",
      "version": "0.3.2",
      "provenance": []
    },
    "kernelspec": {
      "name": "python3",
      "display_name": "Python 3"
    }
  },
  "cells": [
    {
      "metadata": {
        "id": "UmbzVSZH5-f8",
        "colab_type": "code",
        "colab": {
          "base_uri": "https://localhost:8080/",
          "height": 34
        },
        "outputId": "1b355115-a543-4911-b02c-df71683da0bf"
      },
      "cell_type": "code",
      "source": [
        "#solving pi\n",
        "pi = 2\n",
        "for i in range(1, 10000):\n",
        "  pi = pi * ((4 * (i ** 2)) / (4 * (i ** 2) - 1))\n",
        "print(pi)"
      ],
      "execution_count": 9,
      "outputs": [
        {
          "output_type": "stream",
          "text": [
            "3.1415141108281714\n"
          ],
          "name": "stdout"
        }
      ]
    }
  ]
}